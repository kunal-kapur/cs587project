{
 "cells": [
  {
   "cell_type": "code",
   "execution_count": 89,
   "id": "7cf7e937-ac90-41f8-985b-59516da4fc04",
   "metadata": {},
   "outputs": [],
   "source": [
    "import tensorflow as tf\n",
    "import tensorflow_datasets as tfds\n",
    "import pandas as pd\n",
    "import numpy as np"
   ]
  },
  {
   "cell_type": "code",
   "execution_count": 96,
   "id": "259c9bb4-b5ca-48b9-9b6f-d43fea90c117",
   "metadata": {},
   "outputs": [],
   "source": [
    "ratings = tfds.load(\"movielens/100k-ratings\", split=\"train\")"
   ]
  },
  {
   "cell_type": "code",
   "execution_count": 91,
   "id": "60cb2d12-1513-4d17-bd7a-ae39cecfca3e",
   "metadata": {},
   "outputs": [],
   "source": []
  },
  {
   "cell_type": "code",
   "execution_count": 92,
   "id": "bde9023d-7e58-4a41-91e4-d79d80257951",
   "metadata": {},
   "outputs": [
    {
     "data": {
      "text/plain": [
       "tensorflow.python.data.ops.map_op._MapDataset"
      ]
     },
     "execution_count": 92,
     "metadata": {},
     "output_type": "execute_result"
    }
   ],
   "source": [
    "ratings\n",
    "type(ratings)"
   ]
  },
  {
   "cell_type": "code",
   "execution_count": 103,
   "id": "3b77fe7c-7250-44bb-a4d4-1d1d8acadf16",
   "metadata": {},
   "outputs": [
    {
     "data": {
      "text/plain": [
       "<_PrefetchDataset element_spec={'bucketized_user_age': TensorSpec(shape=(), dtype=tf.float32, name=None), 'movie_genres': TensorSpec(shape=(None,), dtype=tf.int64, name=None), 'movie_id': TensorSpec(shape=(), dtype=tf.string, name=None), 'movie_title': TensorSpec(shape=(), dtype=tf.string, name=None), 'raw_user_age': TensorSpec(shape=(), dtype=tf.float32, name=None), 'timestamp': TensorSpec(shape=(), dtype=tf.int64, name=None), 'user_gender': TensorSpec(shape=(), dtype=tf.bool, name=None), 'user_id': TensorSpec(shape=(), dtype=tf.string, name=None), 'user_occupation_label': TensorSpec(shape=(), dtype=tf.int64, name=None), 'user_occupation_text': TensorSpec(shape=(), dtype=tf.string, name=None), 'user_rating': TensorSpec(shape=(), dtype=tf.float32, name=None), 'user_zip_code': TensorSpec(shape=(), dtype=tf.string, name=None)}>"
      ]
     },
     "execution_count": 103,
     "metadata": {},
     "output_type": "execute_result"
    }
   ],
   "source": [
    "ratings"
   ]
  },
  {
   "cell_type": "code",
   "execution_count": 93,
   "id": "4d39f34c-c607-46ac-93bb-39163c169663",
   "metadata": {},
   "outputs": [
    {
     "ename": "AttributeError",
     "evalue": "'_MapDataset' object has no attribute 'to_csv'",
     "output_type": "error",
     "traceback": [
      "\u001b[0;31m---------------------------------------------------------------------------\u001b[0m",
      "\u001b[0;31mAttributeError\u001b[0m                            Traceback (most recent call last)",
      "Cell \u001b[0;32mIn[93], line 1\u001b[0m\n\u001b[0;32m----> 1\u001b[0m \u001b[43mratings\u001b[49m\u001b[38;5;241;43m.\u001b[39;49m\u001b[43mto_csv\u001b[49m(\u001b[38;5;124m'\u001b[39m\u001b[38;5;124mdataset.csv\u001b[39m\u001b[38;5;124m'\u001b[39m, index\u001b[38;5;241m=\u001b[39m\u001b[38;5;28;01mFalse\u001b[39;00m)\n",
      "\u001b[0;31mAttributeError\u001b[0m: '_MapDataset' object has no attribute 'to_csv'"
     ]
    }
   ],
   "source": [
    "ratings.to_csv('dataset.csv', index=False)"
   ]
  },
  {
   "cell_type": "code",
   "execution_count": 97,
   "id": "061c0858-da0a-41c3-8be3-9310e33c5c4a",
   "metadata": {},
   "outputs": [
    {
     "name": "stderr",
     "output_type": "stream",
     "text": [
      "2024-03-23 14:27:26.676842: W tensorflow/core/framework/local_rendezvous.cc:404] Local rendezvous is aborting with status: OUT_OF_RANGE: End of sequence\n"
     ]
    }
   ],
   "source": [
    "df=tfds.as_dataframe(ds=ratings)"
   ]
  },
  {
   "cell_type": "code",
   "execution_count": 98,
   "id": "7b89c503-e714-4794-97ae-6404f10d2a23",
   "metadata": {},
   "outputs": [
    {
     "data": {
      "text/html": [
       "<div>\n",
       "<style scoped>\n",
       "    .dataframe tbody tr th:only-of-type {\n",
       "        vertical-align: middle;\n",
       "    }\n",
       "\n",
       "    .dataframe tbody tr th {\n",
       "        vertical-align: top;\n",
       "    }\n",
       "\n",
       "    .dataframe thead th {\n",
       "        text-align: right;\n",
       "    }\n",
       "</style>\n",
       "<table border=\"1\" class=\"dataframe\">\n",
       "  <thead>\n",
       "    <tr style=\"text-align: right;\">\n",
       "      <th></th>\n",
       "      <th>bucketized_user_age</th>\n",
       "      <th>movie_genres</th>\n",
       "      <th>movie_id</th>\n",
       "      <th>movie_title</th>\n",
       "      <th>raw_user_age</th>\n",
       "      <th>timestamp</th>\n",
       "      <th>user_gender</th>\n",
       "      <th>user_id</th>\n",
       "      <th>user_occupation_label</th>\n",
       "      <th>user_occupation_text</th>\n",
       "      <th>user_rating</th>\n",
       "      <th>user_zip_code</th>\n",
       "    </tr>\n",
       "  </thead>\n",
       "  <tbody>\n",
       "    <tr>\n",
       "      <th>0</th>\n",
       "      <td>45.0</td>\n",
       "      <td>[7]</td>\n",
       "      <td>b'357'</td>\n",
       "      <td>b\"One Flew Over the Cuckoo's Nest (1975)\"</td>\n",
       "      <td>46.0</td>\n",
       "      <td>879024327</td>\n",
       "      <td>True</td>\n",
       "      <td>b'138'</td>\n",
       "      <td>4</td>\n",
       "      <td>b'doctor'</td>\n",
       "      <td>4.0</td>\n",
       "      <td>b'53211'</td>\n",
       "    </tr>\n",
       "    <tr>\n",
       "      <th>1</th>\n",
       "      <td>25.0</td>\n",
       "      <td>[4, 14]</td>\n",
       "      <td>b'709'</td>\n",
       "      <td>b'Strictly Ballroom (1992)'</td>\n",
       "      <td>32.0</td>\n",
       "      <td>875654590</td>\n",
       "      <td>True</td>\n",
       "      <td>b'92'</td>\n",
       "      <td>5</td>\n",
       "      <td>b'entertainment'</td>\n",
       "      <td>2.0</td>\n",
       "      <td>b'80525'</td>\n",
       "    </tr>\n",
       "    <tr>\n",
       "      <th>2</th>\n",
       "      <td>18.0</td>\n",
       "      <td>[4]</td>\n",
       "      <td>b'412'</td>\n",
       "      <td>b'Very Brady Sequel, A (1996)'</td>\n",
       "      <td>24.0</td>\n",
       "      <td>882075110</td>\n",
       "      <td>True</td>\n",
       "      <td>b'301'</td>\n",
       "      <td>17</td>\n",
       "      <td>b'student'</td>\n",
       "      <td>4.0</td>\n",
       "      <td>b'55439'</td>\n",
       "    </tr>\n",
       "    <tr>\n",
       "      <th>3</th>\n",
       "      <td>50.0</td>\n",
       "      <td>[5, 7]</td>\n",
       "      <td>b'56'</td>\n",
       "      <td>b'Pulp Fiction (1994)'</td>\n",
       "      <td>50.0</td>\n",
       "      <td>883326919</td>\n",
       "      <td>True</td>\n",
       "      <td>b'60'</td>\n",
       "      <td>4</td>\n",
       "      <td>b'healthcare'</td>\n",
       "      <td>4.0</td>\n",
       "      <td>b'06472'</td>\n",
       "    </tr>\n",
       "    <tr>\n",
       "      <th>4</th>\n",
       "      <td>50.0</td>\n",
       "      <td>[10, 16]</td>\n",
       "      <td>b'895'</td>\n",
       "      <td>b'Scream 2 (1997)'</td>\n",
       "      <td>55.0</td>\n",
       "      <td>891409199</td>\n",
       "      <td>True</td>\n",
       "      <td>b'197'</td>\n",
       "      <td>18</td>\n",
       "      <td>b'technician'</td>\n",
       "      <td>3.0</td>\n",
       "      <td>b'75094'</td>\n",
       "    </tr>\n",
       "  </tbody>\n",
       "</table>\n",
       "</div>"
      ],
      "text/plain": [
       "   bucketized_user_age movie_genres movie_id  \\\n",
       "0                 45.0          [7]   b'357'   \n",
       "1                 25.0      [4, 14]   b'709'   \n",
       "2                 18.0          [4]   b'412'   \n",
       "3                 50.0       [5, 7]    b'56'   \n",
       "4                 50.0     [10, 16]   b'895'   \n",
       "\n",
       "                                 movie_title  raw_user_age  timestamp  \\\n",
       "0  b\"One Flew Over the Cuckoo's Nest (1975)\"          46.0  879024327   \n",
       "1                b'Strictly Ballroom (1992)'          32.0  875654590   \n",
       "2             b'Very Brady Sequel, A (1996)'          24.0  882075110   \n",
       "3                     b'Pulp Fiction (1994)'          50.0  883326919   \n",
       "4                         b'Scream 2 (1997)'          55.0  891409199   \n",
       "\n",
       "   user_gender user_id  user_occupation_label user_occupation_text  \\\n",
       "0         True  b'138'                      4            b'doctor'   \n",
       "1         True   b'92'                      5     b'entertainment'   \n",
       "2         True  b'301'                     17           b'student'   \n",
       "3         True   b'60'                      4        b'healthcare'   \n",
       "4         True  b'197'                     18        b'technician'   \n",
       "\n",
       "   user_rating user_zip_code  \n",
       "0          4.0      b'53211'  \n",
       "1          2.0      b'80525'  \n",
       "2          4.0      b'55439'  \n",
       "3          4.0      b'06472'  \n",
       "4          3.0      b'75094'  "
      ]
     },
     "execution_count": 98,
     "metadata": {},
     "output_type": "execute_result"
    }
   ],
   "source": [
    "df.head()"
   ]
  },
  {
   "cell_type": "code",
   "execution_count": 99,
   "id": "570a760d-3a31-4b51-aa25-56386b6a60a1",
   "metadata": {},
   "outputs": [
    {
     "data": {
      "text/plain": [
       "Index(['bucketized_user_age', 'movie_genres', 'movie_id', 'movie_title',\n",
       "       'raw_user_age', 'timestamp', 'user_gender', 'user_id',\n",
       "       'user_occupation_label', 'user_occupation_text', 'user_rating',\n",
       "       'user_zip_code'],\n",
       "      dtype='object')"
      ]
     },
     "execution_count": 99,
     "metadata": {},
     "output_type": "execute_result"
    }
   ],
   "source": [
    "df.columns"
   ]
  },
  {
   "cell_type": "code",
   "execution_count": 100,
   "id": "b26f3199-74f1-4608-a6df-e2764f9a98dc",
   "metadata": {},
   "outputs": [],
   "source": [
    "new_df = df.drop(['movie_genres', 'timestamp', 'user_occupation_label', 'raw_user_age'], axis=1)"
   ]
  },
  {
   "cell_type": "code",
   "execution_count": 101,
   "id": "758b25a2-ffbb-496b-996e-3476948938f3",
   "metadata": {},
   "outputs": [],
   "source": [
    "new_df = new_df.reindex(columns=['movie_id', 'user_id', 'user_rating',\n",
    "                                'user_gender', 'user_zip_code',\n",
    "                                'user_occupation_text',\n",
    "                                'bucketized_user_age'],)"
   ]
  },
  {
   "cell_type": "code",
   "execution_count": 102,
   "id": "6fce9356-a0cc-4191-a3d6-15429ee1437b",
   "metadata": {},
   "outputs": [
    {
     "data": {
      "text/html": [
       "<div>\n",
       "<style scoped>\n",
       "    .dataframe tbody tr th:only-of-type {\n",
       "        vertical-align: middle;\n",
       "    }\n",
       "\n",
       "    .dataframe tbody tr th {\n",
       "        vertical-align: top;\n",
       "    }\n",
       "\n",
       "    .dataframe thead th {\n",
       "        text-align: right;\n",
       "    }\n",
       "</style>\n",
       "<table border=\"1\" class=\"dataframe\">\n",
       "  <thead>\n",
       "    <tr style=\"text-align: right;\">\n",
       "      <th></th>\n",
       "      <th>movie_id</th>\n",
       "      <th>user_id</th>\n",
       "      <th>user_rating</th>\n",
       "      <th>user_gender</th>\n",
       "      <th>user_zip_code</th>\n",
       "      <th>user_occupation_text</th>\n",
       "      <th>bucketized_user_age</th>\n",
       "    </tr>\n",
       "  </thead>\n",
       "  <tbody>\n",
       "    <tr>\n",
       "      <th>0</th>\n",
       "      <td>b'357'</td>\n",
       "      <td>b'138'</td>\n",
       "      <td>4.0</td>\n",
       "      <td>True</td>\n",
       "      <td>b'53211'</td>\n",
       "      <td>b'doctor'</td>\n",
       "      <td>45.0</td>\n",
       "    </tr>\n",
       "  </tbody>\n",
       "</table>\n",
       "</div>"
      ],
      "text/plain": [
       "  movie_id user_id  user_rating  user_gender user_zip_code  \\\n",
       "0   b'357'  b'138'          4.0         True      b'53211'   \n",
       "\n",
       "  user_occupation_text  bucketized_user_age  \n",
       "0            b'doctor'                 45.0  "
      ]
     },
     "execution_count": 102,
     "metadata": {},
     "output_type": "execute_result"
    }
   ],
   "source": [
    "new_df.head(1)"
   ]
  },
  {
   "cell_type": "code",
   "execution_count": 69,
   "id": "f027d0af-0829-4e45-b968-1f4074d2b915",
   "metadata": {},
   "outputs": [
    {
     "data": {
      "text/plain": [
       "bucketized_user_age      float32\n",
       "movie_id                  object\n",
       "user_gender                 bool\n",
       "user_id                   object\n",
       "user_occupation_label      int64\n",
       "user_rating              float32\n",
       "user_zip_code             object\n",
       "dtype: object"
      ]
     },
     "execution_count": 69,
     "metadata": {},
     "output_type": "execute_result"
    }
   ],
   "source": [
    "new_df.astype([str, str, str, ])"
   ]
  },
  {
   "cell_type": "code",
   "execution_count": 109,
   "id": "21cf1b02-2424-4894-80a2-54fc88670bfe",
   "metadata": {},
   "outputs": [
    {
     "data": {
      "text/html": [
       "<div>\n",
       "<style scoped>\n",
       "    .dataframe tbody tr th:only-of-type {\n",
       "        vertical-align: middle;\n",
       "    }\n",
       "\n",
       "    .dataframe tbody tr th {\n",
       "        vertical-align: top;\n",
       "    }\n",
       "\n",
       "    .dataframe thead th {\n",
       "        text-align: right;\n",
       "    }\n",
       "</style>\n",
       "<table border=\"1\" class=\"dataframe\">\n",
       "  <thead>\n",
       "    <tr style=\"text-align: right;\">\n",
       "      <th></th>\n",
       "      <th>movie_id</th>\n",
       "      <th>user_id</th>\n",
       "      <th>user_rating</th>\n",
       "      <th>user_gender</th>\n",
       "      <th>user_zip_code</th>\n",
       "      <th>user_occupation_text</th>\n",
       "      <th>bucketized_user_age</th>\n",
       "    </tr>\n",
       "  </thead>\n",
       "  <tbody>\n",
       "    <tr>\n",
       "      <th>0</th>\n",
       "      <td>b'357'</td>\n",
       "      <td>b'138'</td>\n",
       "      <td>4.0</td>\n",
       "      <td>True</td>\n",
       "      <td>b'53211'</td>\n",
       "      <td>b'doctor'</td>\n",
       "      <td>45.0</td>\n",
       "    </tr>\n",
       "    <tr>\n",
       "      <th>1</th>\n",
       "      <td>b'709'</td>\n",
       "      <td>b'92'</td>\n",
       "      <td>2.0</td>\n",
       "      <td>True</td>\n",
       "      <td>b'80525'</td>\n",
       "      <td>b'entertainment'</td>\n",
       "      <td>25.0</td>\n",
       "    </tr>\n",
       "    <tr>\n",
       "      <th>2</th>\n",
       "      <td>b'412'</td>\n",
       "      <td>b'301'</td>\n",
       "      <td>4.0</td>\n",
       "      <td>True</td>\n",
       "      <td>b'55439'</td>\n",
       "      <td>b'student'</td>\n",
       "      <td>18.0</td>\n",
       "    </tr>\n",
       "    <tr>\n",
       "      <th>3</th>\n",
       "      <td>b'56'</td>\n",
       "      <td>b'60'</td>\n",
       "      <td>4.0</td>\n",
       "      <td>True</td>\n",
       "      <td>b'06472'</td>\n",
       "      <td>b'healthcare'</td>\n",
       "      <td>50.0</td>\n",
       "    </tr>\n",
       "    <tr>\n",
       "      <th>4</th>\n",
       "      <td>b'895'</td>\n",
       "      <td>b'197'</td>\n",
       "      <td>3.0</td>\n",
       "      <td>True</td>\n",
       "      <td>b'75094'</td>\n",
       "      <td>b'technician'</td>\n",
       "      <td>50.0</td>\n",
       "    </tr>\n",
       "  </tbody>\n",
       "</table>\n",
       "</div>"
      ],
      "text/plain": [
       "  movie_id user_id  user_rating  user_gender user_zip_code  \\\n",
       "0   b'357'  b'138'          4.0         True      b'53211'   \n",
       "1   b'709'   b'92'          2.0         True      b'80525'   \n",
       "2   b'412'  b'301'          4.0         True      b'55439'   \n",
       "3    b'56'   b'60'          4.0         True      b'06472'   \n",
       "4   b'895'  b'197'          3.0         True      b'75094'   \n",
       "\n",
       "  user_occupation_text  bucketized_user_age  \n",
       "0            b'doctor'                 45.0  \n",
       "1     b'entertainment'                 25.0  \n",
       "2           b'student'                 18.0  \n",
       "3        b'healthcare'                 50.0  \n",
       "4        b'technician'                 50.0  "
      ]
     },
     "execution_count": 109,
     "metadata": {},
     "output_type": "execute_result"
    }
   ],
   "source": [
    "new_df.head()"
   ]
  },
  {
   "cell_type": "code",
   "execution_count": 108,
   "id": "ecb1103d-cce1-47b8-8415-6919c7ee7250",
   "metadata": {},
   "outputs": [
    {
     "data": {
      "text/plain": [
       "{'bucketized_user_age': TensorSpec(shape=(), dtype=tf.float32, name=None),\n",
       " 'movie_genres': TensorSpec(shape=(None,), dtype=tf.int64, name=None),\n",
       " 'movie_id': TensorSpec(shape=(), dtype=tf.string, name=None),\n",
       " 'movie_title': TensorSpec(shape=(), dtype=tf.string, name=None),\n",
       " 'raw_user_age': TensorSpec(shape=(), dtype=tf.float32, name=None),\n",
       " 'timestamp': TensorSpec(shape=(), dtype=tf.int64, name=None),\n",
       " 'user_gender': TensorSpec(shape=(), dtype=tf.bool, name=None),\n",
       " 'user_id': TensorSpec(shape=(), dtype=tf.string, name=None),\n",
       " 'user_occupation_label': TensorSpec(shape=(), dtype=tf.int64, name=None),\n",
       " 'user_occupation_text': TensorSpec(shape=(), dtype=tf.string, name=None),\n",
       " 'user_rating': TensorSpec(shape=(), dtype=tf.float32, name=None),\n",
       " 'user_zip_code': TensorSpec(shape=(), dtype=tf.string, name=None)}"
      ]
     },
     "execution_count": 108,
     "metadata": {},
     "output_type": "execute_result"
    }
   ],
   "source": [
    "element_spec = ratings.element_spec\n",
    "\n",
    "element_spec"
   ]
  },
  {
   "cell_type": "code",
   "execution_count": 117,
   "id": "232811fe-e7d2-472f-ae0c-896cfd0cc786",
   "metadata": {},
   "outputs": [],
   "source": [
    "#new_df.astype({\"movie_id\":str, \"user_id\":str, \"str, str, str, str, str})\n",
    "new_df = new_df.astype({\"movie_id\":str, \"user_id\":str, \"user_rating\":float, \n",
    "\"user_gender\":int, \"user_zip_code\":str, \"user_occupation_text\":str, \n",
    "\"bucketized_user_age\":float})"
   ]
  },
  {
   "cell_type": "code",
   "execution_count": 118,
   "id": "4f2cead4-05b1-4114-900d-0ff905224467",
   "metadata": {},
   "outputs": [
    {
     "data": {
      "text/plain": [
       "movie_id                 object\n",
       "user_id                  object\n",
       "user_rating             float64\n",
       "user_gender               int64\n",
       "user_zip_code            object\n",
       "user_occupation_text     object\n",
       "bucketized_user_age     float64\n",
       "dtype: object"
      ]
     },
     "execution_count": 118,
     "metadata": {},
     "output_type": "execute_result"
    }
   ],
   "source": [
    "new_df.dtypes"
   ]
  },
  {
   "cell_type": "code",
   "execution_count": 119,
   "id": "0266650c-88e7-422b-aa3b-fe4c56a76e38",
   "metadata": {},
   "outputs": [
    {
     "ename": "AttributeError",
     "evalue": "module 'pandas' has no attribute 'save_csv'",
     "output_type": "error",
     "traceback": [
      "\u001b[0;31m---------------------------------------------------------------------------\u001b[0m",
      "\u001b[0;31mAttributeError\u001b[0m                            Traceback (most recent call last)",
      "Cell \u001b[0;32mIn[119], line 1\u001b[0m\n\u001b[0;32m----> 1\u001b[0m \u001b[43mpd\u001b[49m\u001b[38;5;241;43m.\u001b[39;49m\u001b[43msave_csv\u001b[49m(new_df, \u001b[38;5;124m\"\u001b[39m\u001b[38;5;124mdataset.csv\u001b[39m\u001b[38;5;124m\"\u001b[39m)\n",
      "\u001b[0;31mAttributeError\u001b[0m: module 'pandas' has no attribute 'save_csv'"
     ]
    }
   ],
   "source": [
    "pd.save_csv(new_df, \"dataset.csv\")"
   ]
  },
  {
   "cell_type": "code",
   "execution_count": null,
   "id": "b22fba8d-9574-4636-94e4-5d8aaefaa118",
   "metadata": {},
   "outputs": [],
   "source": []
  }
 ],
 "metadata": {
  "kernelspec": {
   "display_name": "Python 3 (ipykernel)",
   "language": "python",
   "name": "python3"
  },
  "language_info": {
   "codemirror_mode": {
    "name": "ipython",
    "version": 3
   },
   "file_extension": ".py",
   "mimetype": "text/x-python",
   "name": "python",
   "nbconvert_exporter": "python",
   "pygments_lexer": "ipython3",
   "version": "3.11.5"
  }
 },
 "nbformat": 4,
 "nbformat_minor": 5
}
