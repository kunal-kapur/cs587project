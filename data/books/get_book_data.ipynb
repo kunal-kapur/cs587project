{
 "cells": [
  {
   "cell_type": "code",
   "execution_count": 66,
   "id": "686a7ac4",
   "metadata": {},
   "outputs": [],
   "source": [
    "import pandas as pd\n",
    "import numpy as np\n",
    "from sklearn.preprocessing import LabelEncoder"
   ]
  },
  {
   "cell_type": "code",
   "execution_count": 67,
   "id": "c8267ab7",
   "metadata": {},
   "outputs": [
    {
     "name": "stderr",
     "output_type": "stream",
     "text": [
      "<ipython-input-67-6cc6a359de57>:3: DtypeWarning: Columns (3) have mixed types. Specify dtype option on import or set low_memory=False.\n",
      "  books = pd.read_csv(\"Books.csv\").dropna()\n"
     ]
    }
   ],
   "source": [
    "ratings = pd.read_csv(\"Ratings.csv\").dropna()\n",
    "users = pd.read_csv(\"Users.csv\").dropna()\n",
    "books = pd.read_csv(\"Books.csv\").dropna()"
   ]
  },
  {
   "cell_type": "code",
   "execution_count": 68,
   "id": "67290259",
   "metadata": {},
   "outputs": [],
   "source": [
    "books = books.drop([\"Image-URL-S\", \"Image-URL-S\", \"Image-URL-M\", \"Image-URL-L\",\\\n",
    "                    \"Book-Title\"], axis=1)"
   ]
  },
  {
   "cell_type": "code",
   "execution_count": 69,
   "id": "096cd58a",
   "metadata": {},
   "outputs": [
    {
     "data": {
      "text/html": [
       "<div>\n",
       "<style scoped>\n",
       "    .dataframe tbody tr th:only-of-type {\n",
       "        vertical-align: middle;\n",
       "    }\n",
       "\n",
       "    .dataframe tbody tr th {\n",
       "        vertical-align: top;\n",
       "    }\n",
       "\n",
       "    .dataframe thead th {\n",
       "        text-align: right;\n",
       "    }\n",
       "</style>\n",
       "<table border=\"1\" class=\"dataframe\">\n",
       "  <thead>\n",
       "    <tr style=\"text-align: right;\">\n",
       "      <th></th>\n",
       "      <th>User-ID</th>\n",
       "      <th>ISBN</th>\n",
       "      <th>Book-Rating</th>\n",
       "    </tr>\n",
       "  </thead>\n",
       "  <tbody>\n",
       "    <tr>\n",
       "      <th>0</th>\n",
       "      <td>276725</td>\n",
       "      <td>034545104X</td>\n",
       "      <td>0</td>\n",
       "    </tr>\n",
       "    <tr>\n",
       "      <th>1</th>\n",
       "      <td>276726</td>\n",
       "      <td>0155061224</td>\n",
       "      <td>5</td>\n",
       "    </tr>\n",
       "    <tr>\n",
       "      <th>2</th>\n",
       "      <td>276727</td>\n",
       "      <td>0446520802</td>\n",
       "      <td>0</td>\n",
       "    </tr>\n",
       "    <tr>\n",
       "      <th>3</th>\n",
       "      <td>276729</td>\n",
       "      <td>052165615X</td>\n",
       "      <td>3</td>\n",
       "    </tr>\n",
       "    <tr>\n",
       "      <th>4</th>\n",
       "      <td>276729</td>\n",
       "      <td>0521795028</td>\n",
       "      <td>6</td>\n",
       "    </tr>\n",
       "  </tbody>\n",
       "</table>\n",
       "</div>"
      ],
      "text/plain": [
       "   User-ID        ISBN  Book-Rating\n",
       "0   276725  034545104X            0\n",
       "1   276726  0155061224            5\n",
       "2   276727  0446520802            0\n",
       "3   276729  052165615X            3\n",
       "4   276729  0521795028            6"
      ]
     },
     "execution_count": 69,
     "metadata": {},
     "output_type": "execute_result"
    }
   ],
   "source": [
    "ratings.head()"
   ]
  },
  {
   "cell_type": "code",
   "execution_count": 70,
   "id": "08b15d90",
   "metadata": {},
   "outputs": [],
   "source": [
    "df = ratings.merge(books, on=\"ISBN\")"
   ]
  },
  {
   "cell_type": "code",
   "execution_count": 71,
   "id": "5349df2f",
   "metadata": {},
   "outputs": [],
   "source": [
    "df = df.merge(users, on=\"User-ID\")"
   ]
  },
  {
   "cell_type": "code",
   "execution_count": 72,
   "id": "2ab85695",
   "metadata": {},
   "outputs": [],
   "source": [
    "df = df.drop(['ISBN'], axis=1)"
   ]
  },
  {
   "cell_type": "code",
   "execution_count": 73,
   "id": "8671bc01",
   "metadata": {},
   "outputs": [
    {
     "data": {
      "text/plain": [
       "User-ID                  int64\n",
       "Book-Rating              int64\n",
       "Book-Author             object\n",
       "Year-Of-Publication     object\n",
       "Publisher               object\n",
       "Location                object\n",
       "Age                    float64\n",
       "dtype: object"
      ]
     },
     "execution_count": 73,
     "metadata": {},
     "output_type": "execute_result"
    }
   ],
   "source": [
    "df.dtypes"
   ]
  },
  {
   "cell_type": "code",
   "execution_count": 74,
   "id": "219f8bf5",
   "metadata": {},
   "outputs": [],
   "source": [
    "df = df.reindex(['Book-Author', 'Location', 'Publisher',\"User-ID\", \n",
    "            'Age','Year-Of-Publication', 'Book-Rating'], axis=\"columns\")"
   ]
  },
  {
   "cell_type": "code",
   "execution_count": 75,
   "id": "d0e02a87",
   "metadata": {},
   "outputs": [],
   "source": [
    "le = LabelEncoder()"
   ]
  },
  {
   "cell_type": "code",
   "execution_count": 76,
   "id": "04d31c52",
   "metadata": {},
   "outputs": [],
   "source": [
    "df['Book-Author'] = le.fit_transform(df['Book-Author'])\n",
    "df['Location'] = le.fit_transform(df['Location'])\n",
    "df['Publisher'] = le.fit_transform(df['Publisher'])\n",
    "df['Book-Author'] = le.fit_transform(df['Book-Author'])"
   ]
  },
  {
   "cell_type": "code",
   "execution_count": 77,
   "id": "302f9cff",
   "metadata": {},
   "outputs": [
    {
     "data": {
      "text/html": [
       "<div>\n",
       "<style scoped>\n",
       "    .dataframe tbody tr th:only-of-type {\n",
       "        vertical-align: middle;\n",
       "    }\n",
       "\n",
       "    .dataframe tbody tr th {\n",
       "        vertical-align: top;\n",
       "    }\n",
       "\n",
       "    .dataframe thead th {\n",
       "        text-align: right;\n",
       "    }\n",
       "</style>\n",
       "<table border=\"1\" class=\"dataframe\">\n",
       "  <thead>\n",
       "    <tr style=\"text-align: right;\">\n",
       "      <th></th>\n",
       "      <th>Book-Author</th>\n",
       "      <th>Location</th>\n",
       "      <th>Publisher</th>\n",
       "      <th>User-ID</th>\n",
       "      <th>Age</th>\n",
       "      <th>Year-Of-Publication</th>\n",
       "      <th>Book-Rating</th>\n",
       "    </tr>\n",
       "  </thead>\n",
       "  <tbody>\n",
       "    <tr>\n",
       "      <th>0</th>\n",
       "      <td>53017</td>\n",
       "      <td>2943</td>\n",
       "      <td>1207</td>\n",
       "      <td>2313</td>\n",
       "      <td>23.0</td>\n",
       "      <td>2002</td>\n",
       "      <td>5</td>\n",
       "    </tr>\n",
       "    <tr>\n",
       "      <th>1</th>\n",
       "      <td>63275</td>\n",
       "      <td>2943</td>\n",
       "      <td>12909</td>\n",
       "      <td>2313</td>\n",
       "      <td>23.0</td>\n",
       "      <td>1986</td>\n",
       "      <td>9</td>\n",
       "    </tr>\n",
       "    <tr>\n",
       "      <th>2</th>\n",
       "      <td>80306</td>\n",
       "      <td>2943</td>\n",
       "      <td>13558</td>\n",
       "      <td>2313</td>\n",
       "      <td>23.0</td>\n",
       "      <td>1994</td>\n",
       "      <td>8</td>\n",
       "    </tr>\n",
       "    <tr>\n",
       "      <th>3</th>\n",
       "      <td>69139</td>\n",
       "      <td>2943</td>\n",
       "      <td>5779</td>\n",
       "      <td>2313</td>\n",
       "      <td>23.0</td>\n",
       "      <td>1996</td>\n",
       "      <td>9</td>\n",
       "    </tr>\n",
       "    <tr>\n",
       "      <th>4</th>\n",
       "      <td>13190</td>\n",
       "      <td>2943</td>\n",
       "      <td>639</td>\n",
       "      <td>2313</td>\n",
       "      <td>23.0</td>\n",
       "      <td>1998</td>\n",
       "      <td>5</td>\n",
       "    </tr>\n",
       "  </tbody>\n",
       "</table>\n",
       "</div>"
      ],
      "text/plain": [
       "   Book-Author  Location  Publisher  User-ID   Age Year-Of-Publication  \\\n",
       "0        53017      2943       1207     2313  23.0                2002   \n",
       "1        63275      2943      12909     2313  23.0                1986   \n",
       "2        80306      2943      13558     2313  23.0                1994   \n",
       "3        69139      2943       5779     2313  23.0                1996   \n",
       "4        13190      2943        639     2313  23.0                1998   \n",
       "\n",
       "   Book-Rating  \n",
       "0            5  \n",
       "1            9  \n",
       "2            8  \n",
       "3            9  \n",
       "4            5  "
      ]
     },
     "execution_count": 77,
     "metadata": {},
     "output_type": "execute_result"
    }
   ],
   "source": [
    "df.head()"
   ]
  },
  {
   "cell_type": "code",
   "execution_count": 78,
   "id": "fb2e941c",
   "metadata": {},
   "outputs": [],
   "source": [
    "df['Age'] = df['Age'].astype(np.int64)\n",
    "df['Year-Of-Publication'] = df['Year-Of-Publication'].astype(np.int64)"
   ]
  },
  {
   "cell_type": "code",
   "execution_count": 79,
   "id": "45b14324",
   "metadata": {},
   "outputs": [
    {
     "data": {
      "text/plain": [
       "Book-Author            int64\n",
       "Location               int64\n",
       "Publisher              int64\n",
       "User-ID                int64\n",
       "Age                    int64\n",
       "Year-Of-Publication    int64\n",
       "Book-Rating            int64\n",
       "dtype: object"
      ]
     },
     "execution_count": 79,
     "metadata": {},
     "output_type": "execute_result"
    }
   ],
   "source": [
    "df.dtypes"
   ]
  },
  {
   "cell_type": "code",
   "execution_count": 80,
   "id": "8a372192",
   "metadata": {},
   "outputs": [],
   "source": [
    "df.to_csv(\"../books_dataset.csv\")"
   ]
  },
  {
   "cell_type": "code",
   "execution_count": null,
   "id": "80a7fa48",
   "metadata": {},
   "outputs": [],
   "source": []
  }
 ],
 "metadata": {
  "kernelspec": {
   "display_name": "Python cs587 kernal",
   "language": "python",
   "name": "cs587"
  },
  "language_info": {
   "codemirror_mode": {
    "name": "ipython",
    "version": 3
   },
   "file_extension": ".py",
   "mimetype": "text/x-python",
   "name": "python",
   "nbconvert_exporter": "python",
   "pygments_lexer": "ipython3",
   "version": "3.9.18"
  }
 },
 "nbformat": 4,
 "nbformat_minor": 5
}
