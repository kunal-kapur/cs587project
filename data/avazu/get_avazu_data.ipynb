{
 "cells": [
  {
   "cell_type": "markdown",
   "id": "f63959a2",
   "metadata": {},
   "source": [
    "#### https://zenodo.org/records/2594012"
   ]
  },
  {
   "cell_type": "code",
   "execution_count": 45,
   "id": "d02510f9",
   "metadata": {},
   "outputs": [],
   "source": [
    "import pandas as pd\n",
    "from sklearn.preprocessing import LabelEncoder"
   ]
  },
  {
   "cell_type": "code",
   "execution_count": 46,
   "id": "54bfa450",
   "metadata": {},
   "outputs": [],
   "source": [
    "df = pd.read_csv(\"test.csv\")"
   ]
  },
  {
   "cell_type": "code",
   "execution_count": 47,
   "id": "245b8513",
   "metadata": {},
   "outputs": [],
   "source": [
    "df = df.sort_values(by=['id'])"
   ]
  },
  {
   "cell_type": "code",
   "execution_count": 48,
   "id": "40d26cc9",
   "metadata": {},
   "outputs": [
    {
     "data": {
      "text/plain": [
       "(4218938, 24)"
      ]
     },
     "execution_count": 48,
     "metadata": {},
     "output_type": "execute_result"
    }
   ],
   "source": [
    "df.shape"
   ]
  },
  {
   "cell_type": "code",
   "execution_count": 49,
   "id": "1a905408",
   "metadata": {},
   "outputs": [],
   "source": [
    "df = df[0:1000000]"
   ]
  },
  {
   "cell_type": "code",
   "execution_count": 50,
   "id": "9073f0c7",
   "metadata": {},
   "outputs": [
    {
     "data": {
      "text/plain": [
       "1000000"
      ]
     },
     "execution_count": 50,
     "metadata": {},
     "output_type": "execute_result"
    }
   ],
   "source": [
    "len(df['id'].unique())"
   ]
  },
  {
   "cell_type": "code",
   "execution_count": 51,
   "id": "279c7e39",
   "metadata": {},
   "outputs": [
    {
     "data": {
      "text/html": [
       "<div>\n",
       "<style scoped>\n",
       "    .dataframe tbody tr th:only-of-type {\n",
       "        vertical-align: middle;\n",
       "    }\n",
       "\n",
       "    .dataframe tbody tr th {\n",
       "        vertical-align: top;\n",
       "    }\n",
       "\n",
       "    .dataframe thead th {\n",
       "        text-align: right;\n",
       "    }\n",
       "</style>\n",
       "<table border=\"1\" class=\"dataframe\">\n",
       "  <thead>\n",
       "    <tr style=\"text-align: right;\">\n",
       "      <th></th>\n",
       "      <th>id</th>\n",
       "      <th>click</th>\n",
       "      <th>hour</th>\n",
       "      <th>C1</th>\n",
       "      <th>banner_pos</th>\n",
       "      <th>site_id</th>\n",
       "      <th>site_domain</th>\n",
       "      <th>site_category</th>\n",
       "      <th>app_id</th>\n",
       "      <th>app_domain</th>\n",
       "      <th>...</th>\n",
       "      <th>device_type</th>\n",
       "      <th>device_conn_type</th>\n",
       "      <th>C14</th>\n",
       "      <th>C15</th>\n",
       "      <th>C16</th>\n",
       "      <th>C17</th>\n",
       "      <th>C18</th>\n",
       "      <th>C19</th>\n",
       "      <th>C20</th>\n",
       "      <th>C21</th>\n",
       "    </tr>\n",
       "  </thead>\n",
       "  <tbody>\n",
       "    <tr>\n",
       "      <th>587608</th>\n",
       "      <td>2.404121e+12</td>\n",
       "      <td>0</td>\n",
       "      <td>14103004</td>\n",
       "      <td>1005</td>\n",
       "      <td>0</td>\n",
       "      <td>85f751fd</td>\n",
       "      <td>c4e18dd6</td>\n",
       "      <td>50e219e0</td>\n",
       "      <td>d36838b1</td>\n",
       "      <td>0e8616ad</td>\n",
       "      <td>...</td>\n",
       "      <td>1</td>\n",
       "      <td>2</td>\n",
       "      <td>23804</td>\n",
       "      <td>320</td>\n",
       "      <td>50</td>\n",
       "      <td>2726</td>\n",
       "      <td>3</td>\n",
       "      <td>803</td>\n",
       "      <td>-1</td>\n",
       "      <td>229</td>\n",
       "    </tr>\n",
       "    <tr>\n",
       "      <th>1842659</th>\n",
       "      <td>4.294807e+12</td>\n",
       "      <td>0</td>\n",
       "      <td>14103010</td>\n",
       "      <td>1005</td>\n",
       "      <td>1</td>\n",
       "      <td>e151e245</td>\n",
       "      <td>7e091613</td>\n",
       "      <td>f028772b</td>\n",
       "      <td>ecad2386</td>\n",
       "      <td>7801e8d9</td>\n",
       "      <td>...</td>\n",
       "      <td>1</td>\n",
       "      <td>0</td>\n",
       "      <td>22814</td>\n",
       "      <td>320</td>\n",
       "      <td>50</td>\n",
       "      <td>2647</td>\n",
       "      <td>2</td>\n",
       "      <td>39</td>\n",
       "      <td>100148</td>\n",
       "      <td>23</td>\n",
       "    </tr>\n",
       "    <tr>\n",
       "      <th>266658</th>\n",
       "      <td>8.254551e+12</td>\n",
       "      <td>0</td>\n",
       "      <td>14103002</td>\n",
       "      <td>1005</td>\n",
       "      <td>1</td>\n",
       "      <td>85f751fd</td>\n",
       "      <td>c4e18dd6</td>\n",
       "      <td>50e219e0</td>\n",
       "      <td>cf0327f9</td>\n",
       "      <td>2347f47a</td>\n",
       "      <td>...</td>\n",
       "      <td>1</td>\n",
       "      <td>0</td>\n",
       "      <td>23646</td>\n",
       "      <td>300</td>\n",
       "      <td>50</td>\n",
       "      <td>2709</td>\n",
       "      <td>3</td>\n",
       "      <td>39</td>\n",
       "      <td>100013</td>\n",
       "      <td>23</td>\n",
       "    </tr>\n",
       "    <tr>\n",
       "      <th>1042678</th>\n",
       "      <td>1.441823e+13</td>\n",
       "      <td>0</td>\n",
       "      <td>14103006</td>\n",
       "      <td>1005</td>\n",
       "      <td>0</td>\n",
       "      <td>85f751fd</td>\n",
       "      <td>c4e18dd6</td>\n",
       "      <td>50e219e0</td>\n",
       "      <td>9c13b419</td>\n",
       "      <td>2347f47a</td>\n",
       "      <td>...</td>\n",
       "      <td>1</td>\n",
       "      <td>0</td>\n",
       "      <td>23160</td>\n",
       "      <td>320</td>\n",
       "      <td>50</td>\n",
       "      <td>2667</td>\n",
       "      <td>0</td>\n",
       "      <td>35</td>\n",
       "      <td>-1</td>\n",
       "      <td>221</td>\n",
       "    </tr>\n",
       "    <tr>\n",
       "      <th>539493</th>\n",
       "      <td>1.672237e+13</td>\n",
       "      <td>0</td>\n",
       "      <td>14103004</td>\n",
       "      <td>1005</td>\n",
       "      <td>0</td>\n",
       "      <td>85f751fd</td>\n",
       "      <td>c4e18dd6</td>\n",
       "      <td>50e219e0</td>\n",
       "      <td>d36838b1</td>\n",
       "      <td>0e8616ad</td>\n",
       "      <td>...</td>\n",
       "      <td>1</td>\n",
       "      <td>0</td>\n",
       "      <td>23804</td>\n",
       "      <td>320</td>\n",
       "      <td>50</td>\n",
       "      <td>2726</td>\n",
       "      <td>3</td>\n",
       "      <td>803</td>\n",
       "      <td>-1</td>\n",
       "      <td>229</td>\n",
       "    </tr>\n",
       "  </tbody>\n",
       "</table>\n",
       "<p>5 rows × 24 columns</p>\n",
       "</div>"
      ],
      "text/plain": [
       "                   id  click      hour    C1  banner_pos   site_id  \\\n",
       "587608   2.404121e+12      0  14103004  1005           0  85f751fd   \n",
       "1842659  4.294807e+12      0  14103010  1005           1  e151e245   \n",
       "266658   8.254551e+12      0  14103002  1005           1  85f751fd   \n",
       "1042678  1.441823e+13      0  14103006  1005           0  85f751fd   \n",
       "539493   1.672237e+13      0  14103004  1005           0  85f751fd   \n",
       "\n",
       "        site_domain site_category    app_id app_domain  ... device_type  \\\n",
       "587608     c4e18dd6      50e219e0  d36838b1   0e8616ad  ...           1   \n",
       "1842659    7e091613      f028772b  ecad2386   7801e8d9  ...           1   \n",
       "266658     c4e18dd6      50e219e0  cf0327f9   2347f47a  ...           1   \n",
       "1042678    c4e18dd6      50e219e0  9c13b419   2347f47a  ...           1   \n",
       "539493     c4e18dd6      50e219e0  d36838b1   0e8616ad  ...           1   \n",
       "\n",
       "        device_conn_type    C14  C15  C16   C17  C18  C19     C20  C21  \n",
       "587608                 2  23804  320   50  2726    3  803      -1  229  \n",
       "1842659                0  22814  320   50  2647    2   39  100148   23  \n",
       "266658                 0  23646  300   50  2709    3   39  100013   23  \n",
       "1042678                0  23160  320   50  2667    0   35      -1  221  \n",
       "539493                 0  23804  320   50  2726    3  803      -1  229  \n",
       "\n",
       "[5 rows x 24 columns]"
      ]
     },
     "execution_count": 51,
     "metadata": {},
     "output_type": "execute_result"
    }
   ],
   "source": [
    "df.head(5)"
   ]
  },
  {
   "cell_type": "code",
   "execution_count": 52,
   "id": "640cdd4f",
   "metadata": {},
   "outputs": [
    {
     "data": {
      "text/plain": [
       "Index(['id', 'click', 'hour', 'C1', 'banner_pos', 'site_id', 'site_domain',\n",
       "       'site_category', 'app_id', 'app_domain', 'app_category', 'device_id',\n",
       "       'device_ip', 'device_model', 'device_type', 'device_conn_type', 'C14',\n",
       "       'C15', 'C16', 'C17', 'C18', 'C19', 'C20', 'C21'],\n",
       "      dtype='object')"
      ]
     },
     "execution_count": 52,
     "metadata": {},
     "output_type": "execute_result"
    }
   ],
   "source": [
    "df.columns"
   ]
  },
  {
   "cell_type": "code",
   "execution_count": null,
   "id": "3c924dfa",
   "metadata": {},
   "outputs": [],
   "source": []
  },
  {
   "cell_type": "code",
   "execution_count": 53,
   "id": "723e0b4a",
   "metadata": {},
   "outputs": [],
   "source": [
    "le = LabelEncoder()"
   ]
  },
  {
   "cell_type": "code",
   "execution_count": 54,
   "id": "9db830b5",
   "metadata": {},
   "outputs": [],
   "source": [
    "vals = []\n",
    "for i in df.columns:\n",
    "    df[i] = le.fit_transform(df[i])"
   ]
  },
  {
   "cell_type": "code",
   "execution_count": 55,
   "id": "3f1cb161",
   "metadata": {},
   "outputs": [],
   "source": [
    "vals = []\n",
    "for i in df.columns:\n",
    "    vals.append(len(df[i].unique()))"
   ]
  },
  {
   "cell_type": "code",
   "execution_count": 56,
   "id": "634a339a",
   "metadata": {},
   "outputs": [],
   "source": [
    "#"
   ]
  },
  {
   "cell_type": "code",
   "execution_count": 57,
   "id": "fc8dee8f",
   "metadata": {},
   "outputs": [
    {
     "data": {
      "text/plain": [
       "864.9455847459343"
      ]
     },
     "execution_count": 57,
     "metadata": {},
     "output_type": "execute_result"
    }
   ],
   "source": [
    "import math\n",
    "tot = sum(6 * i**(1/4) for i in vals)\n",
    "tot"
   ]
  },
  {
   "cell_type": "code",
   "execution_count": 58,
   "id": "9d498576",
   "metadata": {},
   "outputs": [
    {
     "data": {
      "text/plain": [
       "array([0, 1])"
      ]
     },
     "execution_count": 58,
     "metadata": {},
     "output_type": "execute_result"
    }
   ],
   "source": [
    "df['click'].unique()"
   ]
  },
  {
   "cell_type": "code",
   "execution_count": 59,
   "id": "84d84d67",
   "metadata": {},
   "outputs": [],
   "source": [
    "df.to_csv(\"../avazu_dataset.csv\")"
   ]
  },
  {
   "cell_type": "code",
   "execution_count": null,
   "id": "9cb68ff6",
   "metadata": {},
   "outputs": [],
   "source": []
  }
 ],
 "metadata": {
  "kernelspec": {
   "display_name": "Python cs587 kernal",
   "language": "python",
   "name": "cs587"
  },
  "language_info": {
   "codemirror_mode": {
    "name": "ipython",
    "version": 3
   },
   "file_extension": ".py",
   "mimetype": "text/x-python",
   "name": "python",
   "nbconvert_exporter": "python",
   "pygments_lexer": "ipython3",
   "version": "3.9.18"
  }
 },
 "nbformat": 4,
 "nbformat_minor": 5
}
