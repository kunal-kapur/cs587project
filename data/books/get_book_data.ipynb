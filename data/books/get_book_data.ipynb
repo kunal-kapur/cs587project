{
 "cells": [
  {
   "cell_type": "markdown",
   "id": "8be5950a",
   "metadata": {},
   "source": [
    "#### Books: https://www.kaggle.com/datasets/arashnic/book-recommendation-dataset?select=Books.csv"
   ]
  },
  {
   "cell_type": "code",
   "execution_count": null,
   "id": "64ee5f4b",
   "metadata": {},
   "outputs": [],
   "source": [
    "import pandas as pd\n",
    "import numpy as np\n",
    "from sklearn.preprocessing import LabelEncoder"
   ]
  },
  {
   "cell_type": "code",
   "execution_count": 71,
   "id": "1c22d4fb",
   "metadata": {},
   "outputs": [
    {
     "name": "stderr",
     "output_type": "stream",
     "text": [
      "<ipython-input-71-6cc6a359de57>:3: DtypeWarning: Columns (3) have mixed types. Specify dtype option on import or set low_memory=False.\n",
      "  books = pd.read_csv(\"Books.csv\").dropna()\n"
     ]
    }
   ],
   "source": [
    "ratings = pd.read_csv(\"Ratings.csv\").dropna()\n",
    "users = pd.read_csv(\"Users.csv\").dropna()\n",
    "books = pd.read_csv(\"Books.csv\").dropna()"
   ]
  },
  {
   "cell_type": "code",
   "execution_count": 72,
   "id": "3455cf9f",
   "metadata": {},
   "outputs": [],
   "source": [
    "books = books.drop([\"Image-URL-S\", \"Image-URL-S\", \"Image-URL-M\", \"Image-URL-L\",\\\n",
    "                    \"Book-Title\"], axis=1)"
   ]
  },
  {
   "cell_type": "code",
   "execution_count": 73,
   "id": "f789236c",
   "metadata": {},
   "outputs": [
    {
     "data": {
      "text/html": [
       "<div>\n",
       "<style scoped>\n",
       "    .dataframe tbody tr th:only-of-type {\n",
       "        vertical-align: middle;\n",
       "    }\n",
       "\n",
       "    .dataframe tbody tr th {\n",
       "        vertical-align: top;\n",
       "    }\n",
       "\n",
       "    .dataframe thead th {\n",
       "        text-align: right;\n",
       "    }\n",
       "</style>\n",
       "<table border=\"1\" class=\"dataframe\">\n",
       "  <thead>\n",
       "    <tr style=\"text-align: right;\">\n",
       "      <th></th>\n",
       "      <th>User-ID</th>\n",
       "      <th>ISBN</th>\n",
       "      <th>Book-Rating</th>\n",
       "    </tr>\n",
       "  </thead>\n",
       "  <tbody>\n",
       "    <tr>\n",
       "      <th>0</th>\n",
       "      <td>276725</td>\n",
       "      <td>034545104X</td>\n",
       "      <td>0</td>\n",
       "    </tr>\n",
       "    <tr>\n",
       "      <th>1</th>\n",
       "      <td>276726</td>\n",
       "      <td>0155061224</td>\n",
       "      <td>5</td>\n",
       "    </tr>\n",
       "    <tr>\n",
       "      <th>2</th>\n",
       "      <td>276727</td>\n",
       "      <td>0446520802</td>\n",
       "      <td>0</td>\n",
       "    </tr>\n",
       "    <tr>\n",
       "      <th>3</th>\n",
       "      <td>276729</td>\n",
       "      <td>052165615X</td>\n",
       "      <td>3</td>\n",
       "    </tr>\n",
       "    <tr>\n",
       "      <th>4</th>\n",
       "      <td>276729</td>\n",
       "      <td>0521795028</td>\n",
       "      <td>6</td>\n",
       "    </tr>\n",
       "  </tbody>\n",
       "</table>\n",
       "</div>"
      ],
      "text/plain": [
       "   User-ID        ISBN  Book-Rating\n",
       "0   276725  034545104X            0\n",
       "1   276726  0155061224            5\n",
       "2   276727  0446520802            0\n",
       "3   276729  052165615X            3\n",
       "4   276729  0521795028            6"
      ]
     },
     "execution_count": 73,
     "metadata": {},
     "output_type": "execute_result"
    }
   ],
   "source": [
    "ratings.head()"
   ]
  },
  {
   "cell_type": "code",
   "execution_count": 74,
   "id": "cfc01695",
   "metadata": {},
   "outputs": [],
   "source": [
    "df = ratings.merge(books, on=\"ISBN\")"
   ]
  },
  {
   "cell_type": "code",
   "execution_count": 75,
   "id": "4068ff0d",
   "metadata": {},
   "outputs": [],
   "source": [
    "df = df.merge(users, on=\"User-ID\")"
   ]
  },
  {
   "cell_type": "code",
   "execution_count": 76,
   "id": "80de6585",
   "metadata": {},
   "outputs": [],
   "source": [
    "df = df.drop(['ISBN'], axis=1)"
   ]
  },
  {
   "cell_type": "code",
   "execution_count": 77,
   "id": "46aaea73",
   "metadata": {},
   "outputs": [
    {
     "data": {
      "text/plain": [
       "User-ID                  int64\n",
       "Book-Rating              int64\n",
       "Book-Author             object\n",
       "Year-Of-Publication     object\n",
       "Publisher               object\n",
       "Location                object\n",
       "Age                    float64\n",
       "dtype: object"
      ]
     },
     "execution_count": 77,
     "metadata": {},
     "output_type": "execute_result"
    }
   ],
   "source": [
    "df.dtypes"
   ]
  },
  {
   "cell_type": "code",
   "execution_count": 78,
   "id": "effcd616",
   "metadata": {},
   "outputs": [],
   "source": [
    "df = df.reindex(['Book-Author', 'Location', 'Publisher',\"User-ID\", \n",
    "            'Age','Year-Of-Publication', 'Book-Rating'], axis=\"columns\")"
   ]
  },
  {
   "cell_type": "code",
   "execution_count": 79,
   "id": "42ed583e",
   "metadata": {},
   "outputs": [
    {
     "data": {
      "text/plain": [
       "(753295, 7)"
      ]
     },
     "execution_count": 79,
     "metadata": {},
     "output_type": "execute_result"
    }
   ],
   "source": [
    "df.shape"
   ]
  },
  {
   "cell_type": "code",
   "execution_count": 80,
   "id": "f0e5a124",
   "metadata": {},
   "outputs": [],
   "source": [
    "df = df.head(250000)"
   ]
  },
  {
   "cell_type": "code",
   "execution_count": 81,
   "id": "19449bf5",
   "metadata": {},
   "outputs": [],
   "source": [
    "le = LabelEncoder()"
   ]
  },
  {
   "cell_type": "code",
   "execution_count": 82,
   "id": "7ead9aca",
   "metadata": {},
   "outputs": [],
   "source": [
    "df['Book-Author'] = le.fit_transform(df['Book-Author'])\n",
    "df['Location'] = le.fit_transform(df['Location'])\n",
    "df['Publisher'] = le.fit_transform(df['Publisher'])\n",
    "df['User-ID'] = le.fit_transform(df['User-ID'])"
   ]
  },
  {
   "cell_type": "code",
   "execution_count": 83,
   "id": "3ab40342",
   "metadata": {},
   "outputs": [
    {
     "data": {
      "text/html": [
       "<div>\n",
       "<style scoped>\n",
       "    .dataframe tbody tr th:only-of-type {\n",
       "        vertical-align: middle;\n",
       "    }\n",
       "\n",
       "    .dataframe tbody tr th {\n",
       "        vertical-align: top;\n",
       "    }\n",
       "\n",
       "    .dataframe thead th {\n",
       "        text-align: right;\n",
       "    }\n",
       "</style>\n",
       "<table border=\"1\" class=\"dataframe\">\n",
       "  <thead>\n",
       "    <tr style=\"text-align: right;\">\n",
       "      <th></th>\n",
       "      <th>Book-Author</th>\n",
       "      <th>Location</th>\n",
       "      <th>Publisher</th>\n",
       "      <th>User-ID</th>\n",
       "      <th>Age</th>\n",
       "      <th>Year-Of-Publication</th>\n",
       "      <th>Book-Rating</th>\n",
       "    </tr>\n",
       "  </thead>\n",
       "  <tbody>\n",
       "    <tr>\n",
       "      <th>0</th>\n",
       "      <td>24806</td>\n",
       "      <td>124</td>\n",
       "      <td>559</td>\n",
       "      <td>9</td>\n",
       "      <td>23.0</td>\n",
       "      <td>2002</td>\n",
       "      <td>5</td>\n",
       "    </tr>\n",
       "    <tr>\n",
       "      <th>1</th>\n",
       "      <td>29626</td>\n",
       "      <td>124</td>\n",
       "      <td>6037</td>\n",
       "      <td>9</td>\n",
       "      <td>23.0</td>\n",
       "      <td>1986</td>\n",
       "      <td>9</td>\n",
       "    </tr>\n",
       "    <tr>\n",
       "      <th>2</th>\n",
       "      <td>37524</td>\n",
       "      <td>124</td>\n",
       "      <td>6369</td>\n",
       "      <td>9</td>\n",
       "      <td>23.0</td>\n",
       "      <td>1994</td>\n",
       "      <td>8</td>\n",
       "    </tr>\n",
       "    <tr>\n",
       "      <th>3</th>\n",
       "      <td>32208</td>\n",
       "      <td>124</td>\n",
       "      <td>2676</td>\n",
       "      <td>9</td>\n",
       "      <td>23.0</td>\n",
       "      <td>1996</td>\n",
       "      <td>9</td>\n",
       "    </tr>\n",
       "    <tr>\n",
       "      <th>4</th>\n",
       "      <td>6243</td>\n",
       "      <td>124</td>\n",
       "      <td>302</td>\n",
       "      <td>9</td>\n",
       "      <td>23.0</td>\n",
       "      <td>1998</td>\n",
       "      <td>5</td>\n",
       "    </tr>\n",
       "  </tbody>\n",
       "</table>\n",
       "</div>"
      ],
      "text/plain": [
       "   Book-Author  Location  Publisher  User-ID   Age Year-Of-Publication  \\\n",
       "0        24806       124        559        9  23.0                2002   \n",
       "1        29626       124       6037        9  23.0                1986   \n",
       "2        37524       124       6369        9  23.0                1994   \n",
       "3        32208       124       2676        9  23.0                1996   \n",
       "4         6243       124        302        9  23.0                1998   \n",
       "\n",
       "   Book-Rating  \n",
       "0            5  \n",
       "1            9  \n",
       "2            8  \n",
       "3            9  \n",
       "4            5  "
      ]
     },
     "execution_count": 83,
     "metadata": {},
     "output_type": "execute_result"
    }
   ],
   "source": [
    "df.head()"
   ]
  },
  {
   "cell_type": "code",
   "execution_count": 84,
   "id": "1c530ba3",
   "metadata": {},
   "outputs": [],
   "source": [
    "df['Age'] = df['Age'].astype(np.int64)\n",
    "df['Year-Of-Publication'] = df['Year-Of-Publication'].astype(np.int64)"
   ]
  },
  {
   "cell_type": "code",
   "execution_count": 85,
   "id": "600dae4a",
   "metadata": {},
   "outputs": [
    {
     "data": {
      "text/plain": [
       "Book-Author            int64\n",
       "Location               int64\n",
       "Publisher              int64\n",
       "User-ID                int64\n",
       "Age                    int64\n",
       "Year-Of-Publication    int64\n",
       "Book-Rating            int64\n",
       "dtype: object"
      ]
     },
     "execution_count": 85,
     "metadata": {},
     "output_type": "execute_result"
    }
   ],
   "source": [
    "df.dtypes"
   ]
  },
  {
   "cell_type": "code",
   "execution_count": 86,
   "id": "cc3e1fb1",
   "metadata": {},
   "outputs": [
    {
     "data": {
      "text/plain": [
       "(250000, 7)"
      ]
     },
     "execution_count": 86,
     "metadata": {},
     "output_type": "execute_result"
    }
   ],
   "source": [
    "df.shape"
   ]
  },
  {
   "cell_type": "code",
   "execution_count": 87,
   "id": "4ce1a3d0",
   "metadata": {},
   "outputs": [],
   "source": [
    "df.to_csv(\"../books_dataset.csv\")"
   ]
  },
  {
   "cell_type": "code",
   "execution_count": 88,
   "id": "1ce28fa2",
   "metadata": {
    "scrolled": true
   },
   "outputs": [],
   "source": [
    "vals = []\n",
    "vals.append(len(df['Book-Author'].unique()))\n",
    "vals.append(len(df['Location'].unique()))\n",
    "vals.append(len(df['Publisher'].unique()))\n",
    "vals.append(len(df['User-ID'].unique()))"
   ]
  },
  {
   "cell_type": "code",
   "execution_count": 89,
   "id": "809ba69d",
   "metadata": {},
   "outputs": [
    {
     "name": "stdout",
     "output_type": "stream",
     "text": [
      "[40607, 698, 6808, 944]\n"
     ]
    }
   ],
   "source": [
    "print(vals)"
   ]
  },
  {
   "cell_type": "code",
   "execution_count": 90,
   "id": "754d332e",
   "metadata": {},
   "outputs": [
    {
     "data": {
      "text/plain": [
       "203.77202572582766"
      ]
     },
     "execution_count": 90,
     "metadata": {},
     "output_type": "execute_result"
    }
   ],
   "source": [
    "import math\n",
    "tot = sum(6 * i**(1/4) for i in vals)\n",
    "tot"
   ]
  },
  {
   "cell_type": "code",
   "execution_count": 91,
   "id": "c53a4ef2",
   "metadata": {},
   "outputs": [
    {
     "data": {
      "text/plain": [
       "(250000, 7)"
      ]
     },
     "execution_count": 91,
     "metadata": {},
     "output_type": "execute_result"
    }
   ],
   "source": [
    "df.shape"
   ]
  },
  {
   "cell_type": "code",
   "execution_count": null,
   "id": "10994984",
   "metadata": {},
   "outputs": [],
   "source": []
  }
 ],
 "metadata": {
  "kernelspec": {
   "display_name": "Python cs587 kernal",
   "language": "python",
   "name": "cs587"
  },
  "language_info": {
   "codemirror_mode": {
    "name": "ipython",
    "version": 3
   },
   "file_extension": ".py",
   "mimetype": "text/x-python",
   "name": "python",
   "nbconvert_exporter": "python",
   "pygments_lexer": "ipython3",
   "version": "3.9.18"
  }
 },
 "nbformat": 4,
 "nbformat_minor": 5
}
