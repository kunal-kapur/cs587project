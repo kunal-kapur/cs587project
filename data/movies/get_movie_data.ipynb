{
 "cells": [
  {
   "cell_type": "markdown",
   "id": "18565b93",
   "metadata": {},
   "source": [
    "#### Dataset: https://www.kaggle.com/datasets/grouplens/movielens-20m-dataset?select=tag.csv"
   ]
  },
  {
   "cell_type": "code",
   "execution_count": 58,
   "id": "ac1f1724",
   "metadata": {},
   "outputs": [],
   "source": [
    "import pandas as pd\n",
    "import numpy as np\n",
    "from sklearn.preprocessing import LabelEncoder"
   ]
  },
  {
   "cell_type": "code",
   "execution_count": 59,
   "id": "c9755c7b",
   "metadata": {},
   "outputs": [],
   "source": [
    "df = pd.read_csv(\"../dataset.csv\").dropna()"
   ]
  },
  {
   "cell_type": "code",
   "execution_count": 60,
   "id": "8f5abda8",
   "metadata": {},
   "outputs": [],
   "source": [
    "df = df.drop(['Unnamed: 0'], axis=1)"
   ]
  },
  {
   "cell_type": "code",
   "execution_count": 61,
   "id": "ffbb8677",
   "metadata": {},
   "outputs": [
    {
     "data": {
      "text/html": [
       "<div>\n",
       "<style scoped>\n",
       "    .dataframe tbody tr th:only-of-type {\n",
       "        vertical-align: middle;\n",
       "    }\n",
       "\n",
       "    .dataframe tbody tr th {\n",
       "        vertical-align: top;\n",
       "    }\n",
       "\n",
       "    .dataframe thead th {\n",
       "        text-align: right;\n",
       "    }\n",
       "</style>\n",
       "<table border=\"1\" class=\"dataframe\">\n",
       "  <thead>\n",
       "    <tr style=\"text-align: right;\">\n",
       "      <th></th>\n",
       "      <th>movie_id</th>\n",
       "      <th>user_id</th>\n",
       "      <th>user_rating</th>\n",
       "      <th>user_gender</th>\n",
       "      <th>user_zip_code</th>\n",
       "      <th>user_occupation_text</th>\n",
       "      <th>bucketized_user_age</th>\n",
       "    </tr>\n",
       "  </thead>\n",
       "  <tbody>\n",
       "    <tr>\n",
       "      <th>0</th>\n",
       "      <td>357</td>\n",
       "      <td>138</td>\n",
       "      <td>4.0</td>\n",
       "      <td>1</td>\n",
       "      <td>53211</td>\n",
       "      <td>doctor</td>\n",
       "      <td>45.0</td>\n",
       "    </tr>\n",
       "  </tbody>\n",
       "</table>\n",
       "</div>"
      ],
      "text/plain": [
       "   movie_id  user_id  user_rating  user_gender user_zip_code  \\\n",
       "0       357      138          4.0            1         53211   \n",
       "\n",
       "  user_occupation_text  bucketized_user_age  \n",
       "0               doctor                 45.0  "
      ]
     },
     "execution_count": 61,
     "metadata": {},
     "output_type": "execute_result"
    }
   ],
   "source": [
    "df.head(1)"
   ]
  },
  {
   "cell_type": "code",
   "execution_count": 62,
   "id": "eeff4510",
   "metadata": {},
   "outputs": [],
   "source": [
    "df = df.reindex(['movie_id', 'user_id', 'user_gender',\"user_zip_code\", \n",
    "            'user_occupation_text','bucketized_user_age', 'user_rating'], axis=\"columns\")"
   ]
  },
  {
   "cell_type": "code",
   "execution_count": 63,
   "id": "93bff261",
   "metadata": {},
   "outputs": [
    {
     "data": {
      "text/plain": [
       "movie_id                  int64\n",
       "user_id                   int64\n",
       "user_gender               int64\n",
       "user_zip_code            object\n",
       "user_occupation_text     object\n",
       "bucketized_user_age     float64\n",
       "user_rating             float64\n",
       "dtype: object"
      ]
     },
     "execution_count": 63,
     "metadata": {},
     "output_type": "execute_result"
    }
   ],
   "source": [
    "df.dtypes"
   ]
  },
  {
   "cell_type": "code",
   "execution_count": 64,
   "id": "157d56b7",
   "metadata": {},
   "outputs": [],
   "source": [
    "le = LabelEncoder()"
   ]
  },
  {
   "cell_type": "code",
   "execution_count": 65,
   "id": "981ccb37",
   "metadata": {},
   "outputs": [],
   "source": [
    "df['movie_id'] = le.fit_transform(df['movie_id'])\n",
    "df['user_id'] = le.fit_transform(df['user_id'])\n",
    "df['user_gender'] = le.fit_transform(df['user_gender'])\n",
    "df['user_zip_code'] = le.fit_transform(df['user_zip_code'])\n",
    "df['user_occupation_text'] = le.fit_transform(df['user_occupation_text'])\n",
    "df['bucketized_user_age'] = le.fit_transform(df['bucketized_user_age'])\n",
    "df['user_rating'] = le.fit_transform(df['user_rating'])"
   ]
  },
  {
   "cell_type": "code",
   "execution_count": 66,
   "id": "7a0bffa0",
   "metadata": {},
   "outputs": [],
   "source": [
    "df = df.astype(int)"
   ]
  },
  {
   "cell_type": "code",
   "execution_count": 67,
   "id": "873e46eb",
   "metadata": {},
   "outputs": [
    {
     "data": {
      "text/plain": [
       "movie_id                int64\n",
       "user_id                 int64\n",
       "user_gender             int64\n",
       "user_zip_code           int64\n",
       "user_occupation_text    int64\n",
       "bucketized_user_age     int64\n",
       "user_rating             int64\n",
       "dtype: object"
      ]
     },
     "execution_count": 67,
     "metadata": {},
     "output_type": "execute_result"
    }
   ],
   "source": [
    "df.dtypes"
   ]
  },
  {
   "cell_type": "code",
   "execution_count": 68,
   "id": "b02f1101",
   "metadata": {},
   "outputs": [],
   "source": [
    "#df['user_rating'] -= 1"
   ]
  },
  {
   "cell_type": "code",
   "execution_count": 69,
   "id": "e4ac3583",
   "metadata": {},
   "outputs": [
    {
     "data": {
      "text/plain": [
       "array([3, 1, 2, 4, 0])"
      ]
     },
     "execution_count": 69,
     "metadata": {},
     "output_type": "execute_result"
    }
   ],
   "source": [
    "df['user_rating'].unique()"
   ]
  },
  {
   "cell_type": "code",
   "execution_count": 73,
   "id": "4cba594e",
   "metadata": {},
   "outputs": [],
   "source": [
    "df.to_csv(\"../movies_dataset.csv\")"
   ]
  },
  {
   "cell_type": "code",
   "execution_count": 70,
   "id": "a7050b73",
   "metadata": {},
   "outputs": [
    {
     "data": {
      "text/html": [
       "<div>\n",
       "<style scoped>\n",
       "    .dataframe tbody tr th:only-of-type {\n",
       "        vertical-align: middle;\n",
       "    }\n",
       "\n",
       "    .dataframe tbody tr th {\n",
       "        vertical-align: top;\n",
       "    }\n",
       "\n",
       "    .dataframe thead th {\n",
       "        text-align: right;\n",
       "    }\n",
       "</style>\n",
       "<table border=\"1\" class=\"dataframe\">\n",
       "  <thead>\n",
       "    <tr style=\"text-align: right;\">\n",
       "      <th></th>\n",
       "      <th>movie_id</th>\n",
       "      <th>user_id</th>\n",
       "      <th>user_gender</th>\n",
       "      <th>user_zip_code</th>\n",
       "      <th>user_occupation_text</th>\n",
       "      <th>bucketized_user_age</th>\n",
       "      <th>user_rating</th>\n",
       "    </tr>\n",
       "  </thead>\n",
       "  <tbody>\n",
       "    <tr>\n",
       "      <th>0</th>\n",
       "      <td>356</td>\n",
       "      <td>137</td>\n",
       "      <td>1</td>\n",
       "      <td>398</td>\n",
       "      <td>2</td>\n",
       "      <td>4</td>\n",
       "      <td>3</td>\n",
       "    </tr>\n",
       "    <tr>\n",
       "      <th>1</th>\n",
       "      <td>708</td>\n",
       "      <td>91</td>\n",
       "      <td>1</td>\n",
       "      <td>591</td>\n",
       "      <td>5</td>\n",
       "      <td>2</td>\n",
       "      <td>1</td>\n",
       "    </tr>\n",
       "    <tr>\n",
       "      <th>2</th>\n",
       "      <td>411</td>\n",
       "      <td>300</td>\n",
       "      <td>1</td>\n",
       "      <td>446</td>\n",
       "      <td>18</td>\n",
       "      <td>1</td>\n",
       "      <td>3</td>\n",
       "    </tr>\n",
       "    <tr>\n",
       "      <th>3</th>\n",
       "      <td>55</td>\n",
       "      <td>59</td>\n",
       "      <td>1</td>\n",
       "      <td>60</td>\n",
       "      <td>7</td>\n",
       "      <td>5</td>\n",
       "      <td>3</td>\n",
       "    </tr>\n",
       "    <tr>\n",
       "      <th>4</th>\n",
       "      <td>894</td>\n",
       "      <td>196</td>\n",
       "      <td>1</td>\n",
       "      <td>537</td>\n",
       "      <td>19</td>\n",
       "      <td>5</td>\n",
       "      <td>2</td>\n",
       "    </tr>\n",
       "    <tr>\n",
       "      <th>...</th>\n",
       "      <td>...</td>\n",
       "      <td>...</td>\n",
       "      <td>...</td>\n",
       "      <td>...</td>\n",
       "      <td>...</td>\n",
       "      <td>...</td>\n",
       "      <td>...</td>\n",
       "    </tr>\n",
       "    <tr>\n",
       "      <th>99995</th>\n",
       "      <td>227</td>\n",
       "      <td>773</td>\n",
       "      <td>1</td>\n",
       "      <td>581</td>\n",
       "      <td>18</td>\n",
       "      <td>2</td>\n",
       "      <td>3</td>\n",
       "    </tr>\n",
       "    <tr>\n",
       "      <th>99996</th>\n",
       "      <td>332</td>\n",
       "      <td>312</td>\n",
       "      <td>1</td>\n",
       "      <td>459</td>\n",
       "      <td>11</td>\n",
       "      <td>3</td>\n",
       "      <td>3</td>\n",
       "    </tr>\n",
       "    <tr>\n",
       "      <th>99997</th>\n",
       "      <td>566</td>\n",
       "      <td>261</td>\n",
       "      <td>0</td>\n",
       "      <td>569</td>\n",
       "      <td>18</td>\n",
       "      <td>1</td>\n",
       "      <td>0</td>\n",
       "    </tr>\n",
       "    <tr>\n",
       "      <th>99998</th>\n",
       "      <td>182</td>\n",
       "      <td>910</td>\n",
       "      <td>0</td>\n",
       "      <td>397</td>\n",
       "      <td>20</td>\n",
       "      <td>3</td>\n",
       "      <td>3</td>\n",
       "    </tr>\n",
       "    <tr>\n",
       "      <th>99999</th>\n",
       "      <td>1139</td>\n",
       "      <td>275</td>\n",
       "      <td>1</td>\n",
       "      <td>715</td>\n",
       "      <td>18</td>\n",
       "      <td>1</td>\n",
       "      <td>1</td>\n",
       "    </tr>\n",
       "  </tbody>\n",
       "</table>\n",
       "<p>100000 rows × 7 columns</p>\n",
       "</div>"
      ],
      "text/plain": [
       "       movie_id  user_id  user_gender  user_zip_code  user_occupation_text  \\\n",
       "0           356      137            1            398                     2   \n",
       "1           708       91            1            591                     5   \n",
       "2           411      300            1            446                    18   \n",
       "3            55       59            1             60                     7   \n",
       "4           894      196            1            537                    19   \n",
       "...         ...      ...          ...            ...                   ...   \n",
       "99995       227      773            1            581                    18   \n",
       "99996       332      312            1            459                    11   \n",
       "99997       566      261            0            569                    18   \n",
       "99998       182      910            0            397                    20   \n",
       "99999      1139      275            1            715                    18   \n",
       "\n",
       "       bucketized_user_age  user_rating  \n",
       "0                        4            3  \n",
       "1                        2            1  \n",
       "2                        1            3  \n",
       "3                        5            3  \n",
       "4                        5            2  \n",
       "...                    ...          ...  \n",
       "99995                    2            3  \n",
       "99996                    3            3  \n",
       "99997                    1            0  \n",
       "99998                    3            3  \n",
       "99999                    1            1  \n",
       "\n",
       "[100000 rows x 7 columns]"
      ]
     },
     "execution_count": 70,
     "metadata": {},
     "output_type": "execute_result"
    }
   ],
   "source": [
    "df"
   ]
  },
  {
   "cell_type": "code",
   "execution_count": 71,
   "id": "d5aec57c",
   "metadata": {},
   "outputs": [
    {
     "data": {
      "text/plain": [
       "array([4, 2, 1, 5, 6, 3, 0])"
      ]
     },
     "execution_count": 71,
     "metadata": {},
     "output_type": "execute_result"
    }
   ],
   "source": [
    "df['bucketized_user_age'].unique()"
   ]
  },
  {
   "cell_type": "code",
   "execution_count": 74,
   "id": "3f0fcc3b",
   "metadata": {},
   "outputs": [],
   "source": [
    "vals = []\n",
    "vals.append(len(df['movie_id'].unique()))\n",
    "vals.append(len(df['user_id'].unique()))\n",
    "vals.append(len(df['user_gender'].unique()))\n",
    "vals.append(len(df['user_zip_code'].unique()))\n",
    "vals.append(len(df['user_occupation_text'].unique()))\n",
    "vals.append(len(df['bucketized_user_age'].unique()))"
   ]
  },
  {
   "cell_type": "code",
   "execution_count": 77,
   "id": "14eb2b48",
   "metadata": {},
   "outputs": [
    {
     "data": {
      "text/plain": [
       "133.27217464888506"
      ]
     },
     "execution_count": 77,
     "metadata": {},
     "output_type": "execute_result"
    }
   ],
   "source": [
    "import math\n",
    "tot = sum(6 * i**(1/4) for i in vals)\n",
    "tot"
   ]
  },
  {
   "cell_type": "code",
   "execution_count": null,
   "id": "a991c97c",
   "metadata": {},
   "outputs": [],
   "source": []
  }
 ],
 "metadata": {
  "kernelspec": {
   "display_name": "Python cs587 kernal",
   "language": "python",
   "name": "cs587"
  },
  "language_info": {
   "codemirror_mode": {
    "name": "ipython",
    "version": 3
   },
   "file_extension": ".py",
   "mimetype": "text/x-python",
   "name": "python",
   "nbconvert_exporter": "python",
   "pygments_lexer": "ipython3",
   "version": "3.9.18"
  }
 },
 "nbformat": 4,
 "nbformat_minor": 5
}
